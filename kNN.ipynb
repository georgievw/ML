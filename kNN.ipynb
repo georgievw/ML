{
  "nbformat": 4,
  "nbformat_minor": 0,
  "metadata": {
    "colab": {
      "name": "HW1.2",
      "provenance": [],
      "collapsed_sections": [],
      "authorship_tag": "ABX9TyOCjt5XpnU3k5pDyGQHEHy7",
      "include_colab_link": true
    },
    "kernelspec": {
      "name": "python3",
      "display_name": "Python 3"
    },
    "language_info": {
      "name": "python"
    }
  },
  "cells": [
    {
      "cell_type": "markdown",
      "metadata": {
        "id": "view-in-github",
        "colab_type": "text"
      },
      "source": [
        "<a href=\"https://colab.research.google.com/github/georgievw/ML/blob/main/kNN.ipynb\" target=\"_parent\"><img src=\"https://colab.research.google.com/assets/colab-badge.svg\" alt=\"Open In Colab\"/></a>"
      ]
    },
    {
      "cell_type": "markdown",
      "metadata": {
        "id": "la_XC__8_DGV"
      },
      "source": [
        "# *Написать kNN*\n"
      ]
    },
    {
      "cell_type": "code",
      "metadata": {
        "id": "uNrL8yLoul3A"
      },
      "source": [
        "import numpy as np\n",
        "from math import sqrt, fabs\n",
        "from collections import Counter\n",
        "\n",
        "#классификатор kNN с поиском соседей полным перебором, с возможностью выбора одной из трех метрик(Минковского, Евклида, Манхэттена),\n",
        "#с методами тренировки модели, предсказания и вычисления метрик\n",
        "\n",
        "class MykNN:\n",
        "  \n",
        "  def __init__(self): #конструктор\n",
        "    self.fitted = False\n",
        "\n",
        "  def fit(self, X, y): #обучение модели\n",
        "    if X.shape[0] == y.shape[0] and len(y.shape) == 1:\n",
        "      self.data = X\n",
        "      self.labels = y\n",
        "      self.fitted = True\n",
        "      print('Fitting is OK')\n",
        "    else:\n",
        "      print('Fitting Error: Incorrect shapes')\n",
        "\n",
        "  def case_metric(self, obj1, obj2, p, metric): #вычисление метрики, в соответствии с переданными параметрами\n",
        "   if metric == 'euclidean':\n",
        "      return self.euclidean(obj1, obj2)\n",
        "   if metric == 'manhattan':\n",
        "      return self.manhattan(obj1, obj2)\n",
        "   if metric == 'minkowski':\n",
        "      return self.minkowski(obj1, obj2, p)\n",
        "\n",
        "  def euclidean(self, obj1, obj2): #вычисление евклидова расстояния\n",
        "    sum = 0\n",
        "    for i in range(len(obj1)):\n",
        "      sum += (obj1[i]-obj2[i])**2\n",
        "    return sqrt(sum)\n",
        "\n",
        "  def manhattan(self, obj1, obj2): #вычисление манхэттенского расстояния\n",
        "    sum = 0\n",
        "    for i in range(len(obj1)):\n",
        "      sum += fabs(obj1[i]-obj2[i])\n",
        "    return sum\n",
        "\n",
        "  def minkowski(self, obj1, obj2, p): #вычисление расстояния Минковского\n",
        "    sum = 0\n",
        "    for i in range(len(obj1)):\n",
        "      sum += (obj1[i]-obj2[i])**p\n",
        "    return sum**(1/p) \n",
        "  \n",
        "  def predict(self, test, k=3, p=3, metric='euclidean'): #прогнозирование\n",
        "    if self.fitted and self.data.shape[1] == test.shape[1]:\n",
        "      results = list()\n",
        "      for i in range(len(test)):\n",
        "        res = list()\n",
        "        l = set()\n",
        "        for j in range(k):\n",
        "          min = 0\n",
        "          for obj in range(1, len(self.data)):\n",
        "            if (self.case_metric(test[i], self.data[obj], p, metric) <= (self.case_metric(test[i], self.data[min], p, metric))) and (not obj in l):\n",
        "              min = obj\n",
        "          l.add(min)\n",
        "          res.append(self.labels[min])\n",
        "        result = Counter(res).most_common(1)[0][0]\n",
        "        results.append(result)   \n",
        "      print('Predicting is OK')\n",
        "      return np.array(results)\n",
        "    else:\n",
        "      print('Predicting Error: Incorrect shapes')\n",
        "    return 0"
      ],
      "execution_count": null,
      "outputs": []
    },
    {
      "cell_type": "code",
      "metadata": {
        "colab": {
          "base_uri": "https://localhost:8080/"
        },
        "id": "OFw1t4TA-asi",
        "outputId": "a264fa77-34c8-4b13-f7e4-808daf0e6057"
      },
      "source": [
        "#загружаем датасет\n",
        "import seaborn as sns\n",
        "iris = sns.load_dataset(\"iris\")\n",
        "X = iris.drop(['species'], axis=1)\n",
        "X = np.array(X)\n",
        "y = iris['species']\n",
        "y = np.array(y)\n",
        "\n",
        "#cоздаем объект классификатора и обучаем\n",
        "clf = MykNN()\n",
        "clf.fit(X, y)\n",
        "\n",
        "#выполняем оценку модели\n",
        "res = np.column_stack([y, clf.predict(X, 12)])\n",
        "good, all = 0, 0\n",
        "for i in range(len(res)):\n",
        "  all += 1\n",
        "  if res[i][0]==res[i][1]:\n",
        "    good += 1\n",
        "print(good/all)\n",
        "print(clf.predict(np.array([[5,5,5,5]]), 11))"
      ],
      "execution_count": null,
      "outputs": [
        {
          "output_type": "stream",
          "name": "stdout",
          "text": [
            "Fitting is OK\n",
            "Predicting is OK\n",
            "0.9866666666666667\n",
            "Predicting is OK\n",
            "['virginica']\n"
          ]
        }
      ]
    }
  ]
}