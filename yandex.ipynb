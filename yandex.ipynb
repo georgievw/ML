{
  "nbformat": 4,
  "nbformat_minor": 0,
  "metadata": {
    "colab": {
      "name": "yandex.ipynb",
      "provenance": [],
      "collapsed_sections": [],
      "authorship_tag": "ABX9TyNWbrHOqL0el+ik37+Hj0p7",
      "include_colab_link": true
    },
    "kernelspec": {
      "name": "python3",
      "display_name": "Python 3"
    },
    "language_info": {
      "name": "python"
    }
  },
  "cells": [
    {
      "cell_type": "markdown",
      "metadata": {
        "id": "view-in-github",
        "colab_type": "text"
      },
      "source": [
        "<a href=\"https://colab.research.google.com/github/georgievw/ML/blob/main/yandex.ipynb\" target=\"_parent\"><img src=\"https://colab.research.google.com/assets/colab-badge.svg\" alt=\"Open In Colab\"/></a>"
      ]
    },
    {
      "cell_type": "markdown",
      "source": [
        "# B. Канатная дорога"
      ],
      "metadata": {
        "id": "GnVigHxPIcqv"
      }
    },
    {
      "cell_type": "code",
      "source": [
        "def distance(first_mount, second_mount):\n",
        "  dl = second_mount[0] - first_mount[0]\n",
        "  dh = second_mount[1] - first_mount[1]\n",
        "  return (dl**2 + dh**2)**(1/2)"
      ],
      "metadata": {
        "id": "lxZsEz7cP2bo"
      },
      "execution_count": null,
      "outputs": []
    },
    {
      "cell_type": "code",
      "source": [
        "def all_len(mountains):\n",
        "  l = 0\n",
        "  stack = []\n",
        "  null_mount = [0, 0]\n",
        "  mountains.insert(0, null_mount)\n",
        "  for i in range(1, len(mountains)):\n",
        "    l += distance(mountains[i-1], mountains[i])\n",
        "    while (len(stack) != 0 ) and (stack[-1][1] <= mountains[i][1]): \n",
        "      l += distance(stack[-1], mountains[i])\n",
        "      stack.pop()\n",
        "    if mountains[i-1][1] > mountains[i][1]:\n",
        "       stack.append(mountains[i-1])\n",
        "  return l"
      ],
      "metadata": {
        "id": "5SweAzIBcklb"
      },
      "execution_count": null,
      "outputs": []
    },
    {
      "cell_type": "code",
      "execution_count": null,
      "metadata": {
        "colab": {
          "base_uri": "https://localhost:8080/"
        },
        "id": "neRT0kN-MxXf",
        "outputId": "437a8073-3bf4-409e-f8c3-e90f8e17d911"
      },
      "outputs": [
        {
          "name": "stdout",
          "output_type": "stream",
          "text": [
            "5\n",
            "1 1\n",
            "1 0\n",
            " 2 0\n",
            "2 1\n",
            "3 1\n"
          ]
        },
        {
          "output_type": "execute_result",
          "data": {
            "text/plain": [
              "[[1, 1], [1, 0], [2, 0], [2, 1], [3, 1]]"
            ]
          },
          "metadata": {},
          "execution_count": 87
        }
      ],
      "source": [
        "n = int(input())\n",
        "mountains = []\n",
        "for i in range(n):\n",
        "  entered_list = input().split()\n",
        "  num_list = list(map(int, entered_list))\n",
        "  mountains.append(num_list)\n",
        "mountains "
      ]
    },
    {
      "cell_type": "code",
      "source": [
        "mountains = [[3, 2], [5, 1], [7, 4], [9, 3], [11, 7], [12, 1]]"
      ],
      "metadata": {
        "id": "biaNL4yMaPtW"
      },
      "execution_count": null,
      "outputs": []
    },
    {
      "cell_type": "code",
      "source": [
        "all_len(mountains)"
      ],
      "metadata": {
        "colab": {
          "base_uri": "https://localhost:8080/"
        },
        "id": "Ag64ls7Hd8gO",
        "outputId": "0d7d411b-7681-4e13-8b49-b18e82e06f15"
      },
      "execution_count": null,
      "outputs": [
        {
          "output_type": "execute_result",
          "data": {
            "text/plain": [
              "31.710272946224936"
            ]
          },
          "metadata": {},
          "execution_count": 271
        }
      ]
    },
    {
      "cell_type": "markdown",
      "source": [
        "# Е. Тайна египетских пирамид\n",
        "Найти коэффициенты a, b, c, d по известным парам аргумент-значение: \n",
        "\n",
        "\n",
        "f(x)=a∗tg(x) + (b∗sin(x) + c∗cos(x))^2 + d∗sqrt(x)"
      ],
      "metadata": {
        "id": "XDwhDgNiRXga"
      }
    },
    {
      "cell_type": "code",
      "source": [
        "import math\n",
        "import matplotlib.pyplot as plt\n",
        "import numpy as np\n",
        "data = [[0.5, 7.11], [1.0, 6.69], [1.5, 4.97], [2.0, 4.25], [2.5, 5.75], [3.0, 8.58],\n",
        "[3.5, 10.56], [4.0, 10.26], [4.5, 8.32], [5.0, 6.86], [5.5, 7.54], [6.0, 10.04], [6.5, 12.35],\n",
        "[7.0, 12.62], [7.5, 10.88], [8.0, 8.97], [8.5, 8.91], [9.0, 10.99], [9.5, 13.53], [10.0, 14.42]]\n",
        "data = np.array(data)"
      ],
      "metadata": {
        "id": "09xoJd_w4zt_"
      },
      "execution_count": 184,
      "outputs": []
    },
    {
      "cell_type": "code",
      "source": [
        "class MyEgyptRegression():\n",
        "\n",
        "  def mse(self, y_pred, y):\n",
        "    return np.mean(np.square(y - y_pred))\n",
        "  \n",
        "  def f(self, x, w):\n",
        "    x_ = x.copy().reshape(-1)\n",
        "    return np.array([np.tan(x_), (1 - np.cos(2*x_))/2, np.sin(2*x_)/2, (1 + np.cos(2*x_))/2, np.sqrt(x_)]).T.dot(w)\n",
        "\n",
        "  def draw(self, weights=np.array([[0], [1], [4], [4], [3]])):\n",
        "    plt.scatter(X_batch, y_batch)\n",
        "    plt.plot(np.arange(X_batch.min(), X_batch.max(), 0.01),self.f(np.arange(X_batch.min(), X_batch.max(), 0.01), weights))\n",
        "    plt.plot(np.arange(X_batch.min(), X_batch.max(), 0.01),self.predict(self.x_transform(np.arange(X_batch.min(), X_batch.max(), 0.01))))\n",
        "    plt.show()\n",
        "\n",
        "  def x_transform(self, x):\n",
        "    x_ = x.copy().reshape(-1)\n",
        "    return np.array([np.tan(x_), (1 - np.cos(2*x_))/2, np.sin(2*x_)/2, (1 + np.cos(2*x_))/2, np.sqrt(x_)]).T\n",
        "\n",
        "  def fit(self, X_batch, y_batch, learning_rate=0.01, n_epochs=10000):\n",
        "    mse_store = []\n",
        "    self.weights = np.zeros((5, 1))\n",
        "    X_batch = self.x_transform(X_batch)\n",
        "    y_batch = y_batch.reshape(-1, 1)\n",
        "    for i in range(n_epochs):\n",
        "      mse_store.append(self.mse(self.predict(X_batch), y_batch))\n",
        "      self.weights -= learning_rate*self.mse_gradient_w(self.predict(X_batch), y_batch, X_batch).reshape(5,1)\n",
        "      \n",
        "    print(self.weights)\n",
        "    print(mse_store[-1])\n",
        "    plt.plot(np.arange(0, len(mse_store), 1), np.array(mse_store))\n",
        "    plt.show()\n",
        "\n",
        "  def mse_gradient_w(self, y_pred, y, x):\n",
        "    return -2 * np.mean( ((y - y_pred) * x) , axis=0)\n",
        "\n",
        "  def predict(self, X_batch):\n",
        "    return (X_batch.dot(self.weights))"
      ],
      "metadata": {
        "id": "04Ta4OrZQjtl"
      },
      "execution_count": 211,
      "outputs": []
    },
    {
      "cell_type": "code",
      "source": [
        "X_batch = data[:,0]\n",
        "y_batch = data[:,1]\n",
        "reg = MyEgyptRegression()\n",
        "reg.fit(X_batch, y_batch)\n",
        "reg.draw()"
      ],
      "metadata": {
        "colab": {
          "base_uri": "https://localhost:8080/",
          "height": 617
        },
        "id": "FjgnSUZu9R9j",
        "outputId": "fb36c8b7-fc82-4295-d1ee-d406ce309bf9"
      },
      "execution_count": 199,
      "outputs": [
        {
          "output_type": "stream",
          "name": "stdout",
          "text": [
            "[[1.48999906e-04]\n",
            " [9.96396257e-01]\n",
            " [3.99793641e+00]\n",
            " [3.99774312e+00]\n",
            " [3.00085266e+00]]\n",
            "4.814693466853666e-06\n"
          ]
        },
        {
          "output_type": "display_data",
          "data": {
            "image/png": "[encoded data removed]",
            "text/plain": [
              "<Figure size 432x288 with 1 Axes>"
            ]
          },
          "metadata": {
            "needs_background": "light"
          }
        },
        {
          "output_type": "display_data",
          "data": {
            "image/png": "[encoded data removed]",
            "text/plain": [
              "<Figure size 432x288 with 1 Axes>"
            ]
          },
          "metadata": {
            "needs_background": "light"
          }
        }
      ]
    },
    {
      "cell_type": "code",
      "source": [
        "test = MyEgyptRegression()\n",
        "X_batch = np.arange(0, 10)\n",
        "weights = np.array([[0.1], [1], [10], [25], [-1]])\n",
        "y_batch = test.f(X_batch, weights)\n",
        "y_batch\n",
        "\n",
        "test.fit(X_batch, y_batch)\n",
        "test.draw(weights)"
      ],
      "metadata": {
        "colab": {
          "base_uri": "https://localhost:8080/",
          "height": 617
        },
        "id": "S48H6NA3-JUk",
        "outputId": "54915831-f32a-48c4-dc8c-e01e9bb33908"
      },
      "execution_count": 212,
      "outputs": [
        {
          "output_type": "stream",
          "name": "stdout",
          "text": [
            "[[ 0.1002398 ]\n",
            " [ 1.00116063]\n",
            " [ 9.9982928 ]\n",
            " [24.99987162]\n",
            " [-1.00011709]]\n",
            "1.8242532244143135e-07\n"
          ]
        },
        {
          "output_type": "display_data",
          "data": {
            "image/png": "[encoded data removed]",
            "text/plain": [
              "<Figure size 432x288 with 1 Axes>"
            ]
          },
          "metadata": {
            "needs_background": "light"
          }
        },
        {
          "output_type": "display_data",
          "data": {
            "image/png": "[encoded data removed]",
            "text/plain": [
              "<Figure size 432x288 with 1 Axes>"
            ]
          },
          "metadata": {
            "needs_background": "light"
          }
        }
      ]
    },
    {
      "cell_type": "markdown",
      "source": [
        "# A. Ковид"
      ],
      "metadata": {
        "id": "o-I-PnLYGQDv"
      }
    },
    {
      "cell_type": "code",
      "source": [
        "n = 4\n",
        "is_sick = [1, 0, 0, 0]\n",
        "humans = [[2, 1, 2], [2, 2, 3], [2, 3, 4], [1, 4]]"
      ],
      "metadata": {
        "id": "h63QS_fcHGM4"
      },
      "execution_count": 182,
      "outputs": []
    },
    {
      "cell_type": "code",
      "source": [
        "n = int(input())\n",
        "is_sick = list(map(int, input().split()))\n",
        "humans = []\n",
        "for i in range(n):\n",
        "  humans.append(list(map(int, input().split())))"
      ],
      "metadata": {
        "id": "nyMI_fyqWq1C"
      },
      "execution_count": null,
      "outputs": []
    },
    {
      "cell_type": "code",
      "source": [
        "sicked = [i for i in range(len(is_sick)) if is_sick[i] == 1]\n",
        "sicked = set(sicked)\n",
        "\n",
        "meetings = dict()\n",
        "for i in range(len(humans)):\n",
        "  if humans[i][0] != 0:\n",
        "    for j in range(1, len(humans[i])):\n",
        "      if meetings.get(humans[i][j]) is None:\n",
        "        meetings[humans[i][j]] = {i}\n",
        "      else:\n",
        "        meetings[humans[i][j]].add(i)\n",
        "\n",
        "meetings_num = sorted(list(meetings))\n",
        "for meeting in meetings_num:\n",
        "  if len(meetings.get(meeting) & sicked) != 0 :\n",
        "    sicked = sicked.union(meetings.get(meeting))\n",
        "\n",
        "a = ' '.join(map(str, sicked))\n",
        "output_list = [1 if i in sicked else 0 for i in range(len(is_sick))]\n",
        "print(' '.join(map(str, output_list)))"
      ],
      "metadata": {
        "colab": {
          "base_uri": "https://localhost:8080/"
        },
        "id": "WD2EZG-1G3Hg",
        "outputId": "230024fe-ae05-4d1f-fc6c-ad5001e6f3fc"
      },
      "execution_count": 183,
      "outputs": [
        {
          "output_type": "stream",
          "name": "stdout",
          "text": [
            "1 1 1 1\n"
          ]
        }
      ]
    },
    {
      "cell_type": "markdown",
      "source": [
        "# С. Оптимальная константа\n",
        "Дла выборки из файла \"input.txt\" найти:\n",
        "\n",
        "*   Константу, минимизирую MSE на входной выборке.\n",
        "*   Константу, минимизирую MAE на входной выборке.\n",
        "*   Константу, минимизирую MAPE на входной выборке.\n",
        "\n",
        "\n",
        "\n"
      ],
      "metadata": {
        "id": "czSog-Y_KgYY"
      }
    },
    {
      "cell_type": "code",
      "source": [
        "import numpy as np\n",
        "import matplotlib.pyplot as plt\n",
        "\n",
        "class Optimizer():\n",
        "\n",
        "  def fit(self, name=\"input.txt\"):\n",
        "    values = []\n",
        "    with open(name, \"r\") as f:\n",
        "      for line in f:\n",
        "        values.append(int(line.strip()))\n",
        "    values.pop(0)\n",
        "    values.sort()\n",
        "    self.values = np.array(values)\n",
        "    print(self.values)\n",
        "\n",
        "  def predict(self):\n",
        "    self.constant = {}\n",
        "    self.constant[\"MSE\"] = self.values.mean()\n",
        "    self.constant[\"MAE\"] = np.median(self.values)\n",
        "    reverse_values = np.ones(len(self.values))/self.values\n",
        "    m = reverse_values.sum()/2\n",
        "    for i in range(len(self.values)):\n",
        "      if reverse_values[0:i+1].sum() > m:\n",
        "        self.constant[\"MAPE\"] = self.values[i]\n",
        "        break\n",
        "    return self.constant\n",
        "\n",
        "  def MSE(self, C):\n",
        "    return np.mean(np.square(self.values - C))\n",
        "\n",
        "  def MAE(self, C):\n",
        "    return np.mean(np.abs(self.values - C))\n",
        "\n",
        "  def MAPE(self, C):\n",
        "    return np.mean(np.abs((self.values - C)/self.values))\n",
        "\n",
        "  def draw(self,):\n",
        "    xs = np.arange(self.values.min() - 1, self.values.max() + 1, 0.01)\n",
        "    ys_mse = []\n",
        "    ys_mae = []\n",
        "    ys_mape = []\n",
        "    for x in xs:\n",
        "      ys_mse.append(self.MSE(x))\n",
        "      ys_mae.append(self.MAE(x))\n",
        "      ys_mape.append(self.MAPE(x))\n",
        "    \n",
        "    fig = plt.figure(figsize=(12,12))\n",
        "    ax_mse = fig.add_subplot(3, 1, 1) \n",
        "    ax_mae = fig.add_subplot(3, 1, 2)\n",
        "    ax_mape = fig.add_subplot(3, 1, 3)\n",
        "    ax_mse.set(title=\"MSE\") \n",
        "    ax_mae.set(title=\"MAE\") \n",
        "    ax_mape.set(title=\"MAPE\") \n",
        "\n",
        "    ax_mse.plot(xs, np.array(ys_mse))\n",
        "    ax_mae.plot(xs, np.array(ys_mae))\n",
        "    ax_mape.plot(xs, np.array(ys_mape))   \n",
        "    ax_mse.scatter(self.constant.get('MSE'), self.MSE(self.constant.get('MSE')))\n",
        "    ax_mae.scatter(self.constant.get('MAE'), self.MAE(self.constant.get('MAE')))\n",
        "    ax_mape.scatter(self.constant.get('MAPE'), self.MAPE(self.constant.get('MAPE')))\n",
        "    plt.show()\n",
        "    print(\"min_MSE/predicted_MSE = \", np.array(ys_mse).min(),\" / \", self.MSE(self.constant.get('MSE')) )\n",
        "    print(\"min_MAE/prdecited_MAE = \", np.array(ys_mae).min(), \" / \", self.MAE(self.constant.get('MAE')))\n",
        "    print(\"min_MAPE/predcited_MAPE = \", np.array(ys_mape).min(), \" / \", self.MAPE(self.constant.get('MAPE')) )\n",
        "    print(self.constant)"
      ],
      "metadata": {
        "id": "WFZSZH921HRM"
      },
      "execution_count": 180,
      "outputs": []
    },
    {
      "cell_type": "code",
      "source": [
        "opt = Optimizer()\n",
        "opt.fit()\n",
        "opt.predict()\n",
        "opt.draw()"
      ],
      "metadata": {
        "colab": {
          "base_uri": "https://localhost:8080/",
          "height": 803
        },
        "id": "hmZt9ScRielE",
        "outputId": "e41f0145-75a7-4975-e7a8-674932ea0687"
      },
      "execution_count": 181,
      "outputs": [
        {
          "output_type": "stream",
          "name": "stdout",
          "text": [
            "[  1   2   2   3   6  10  14 100]\n"
          ]
        },
        {
          "output_type": "display_data",
          "data": {
            "image/png": "[encoded data removed]",
            "text/plain": [
              "<Figure size 864x864 with 3 Axes>"
            ]
          },
          "metadata": {
            "needs_background": "light"
          }
        },
        {
          "output_type": "stream",
          "name": "stdout",
          "text": [
            "min_MSE/predicted_MSE =  996.1875  /  996.1875\n",
            "min_MAE/prdecited_MAE =  15.249999999999998  /  15.25\n",
            "min_MAPE/predcited_MAPE =  0.5796428571428571  /  0.5796428571428571\n",
            "{'MSE': 17.25, 'MAE': 4.5, 'MAPE': 2}\n"
          ]
        }
      ]
    }
  ]
}