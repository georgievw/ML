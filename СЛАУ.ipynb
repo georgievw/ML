{
  "nbformat": 4,
  "nbformat_minor": 0,
  "metadata": {
    "colab": {
      "provenance": [],
      "collapsed_sections": [],
      "authorship_tag": "ABX9TyPpQLuiIjXGI7/zx0gOZ5Q/",
      "include_colab_link": true
    },
    "kernelspec": {
      "name": "python3",
      "display_name": "Python 3"
    },
    "language_info": {
      "name": "python"
    }
  },
  "cells": [
    {
      "cell_type": "markdown",
      "metadata": {
        "id": "view-in-github",
        "colab_type": "text"
      },
      "source": [
        "<a href=\"https://colab.research.google.com/github/georgievw/ML/blob/main/%D0%A1%D0%9B%D0%90%D0%A3.ipynb\" target=\"_parent\"><img src=\"https://colab.research.google.com/assets/colab-badge.svg\" alt=\"Open In Colab\"/></a>"
      ]
    },
    {
      "cell_type": "code",
      "execution_count": null,
      "metadata": {
        "id": "hOPSEXJ8PA4-"
      },
      "outputs": [],
      "source": [
        "import numpy as np"
      ]
    },
    {
      "cell_type": "markdown",
      "source": [
        "Часть 1\n"
      ],
      "metadata": {
        "id": "Ea12IGAPv5Kq"
      }
    },
    {
      "cell_type": "code",
      "source": [
        "#Реализация метода Гаусса решения СЛАУ\n",
        "def Gauss(A, b: np.ndarray) -> np.ndarray:\n",
        "  n = A.shape[0]\n",
        "  for i in range(0, n-1):\n",
        "    for j in range(i+1, n):\n",
        "      k = A[j,i]/A[i,i]\n",
        "      A[j] = A[j] - k*A[i]\n",
        "      b[j] = b[j] - k*b[i]\n",
        "  for i in reversed(range(1, n)):\n",
        "    for j in reversed(range(0, i)):\n",
        "      k = A[j,i]/A[i,i]\n",
        "      A[j] = A[j] - k*A[i]\n",
        "      b[j] = b[j] - k*b[i]\n",
        "  for i in range(0, n):\n",
        "    b[i] = b[i] / A[i,i]\n",
        "    A[i] = A[i] / A[i,i]\n",
        "  return(b)"
      ],
      "metadata": {
        "id": "t-xPoUQoWtvO"
      },
      "execution_count": null,
      "outputs": []
    },
    {
      "cell_type": "code",
      "source": [
        "#Хорошо обусловленная матрица\n",
        "A = np.array([[31.2000,        -1.3200,        -7.6800,         4.0900], \n",
        "     [7.2300,      -126.0000,         7.1400,         3.0400],     \n",
        "     [9.4900,         6.4000,         6.0000,         8.4500],     \n",
        "     [2.6800,        -3.2900,         0.2800,        13.4000]])\n",
        "x = np.array([[10],\n",
        "     [1],\n",
        "     [30],\n",
        "     [-40]])\n",
        "b = np.array([[-83.3200],\n",
        "     [38.9000],\n",
        "     [-56.7000],\n",
        "     [-504.0900]])"
      ],
      "metadata": {
        "id": "FRIpMUWHPJ5F"
      },
      "execution_count": null,
      "outputs": []
    },
    {
      "cell_type": "code",
      "source": [
        "#Результаты, полученные при использовании реализованного метода Гаусса\n",
        "x_pred = Gauss(A.copy(), b.copy())\n",
        "x_pred"
      ],
      "metadata": {
        "colab": {
          "base_uri": "https://localhost:8080/"
        },
        "id": "V0gUaWXMWx2H",
        "outputId": "09a1f5a2-99f5-4073-e9ff-f60151c379d5"
      },
      "execution_count": null,
      "outputs": [
        {
          "output_type": "execute_result",
          "data": {
            "text/plain": [
              "array([[ 10.],\n",
              "       [  1.],\n",
              "       [ 30.],\n",
              "       [-40.]])"
            ]
          },
          "metadata": {},
          "execution_count": 51
        }
      ]
    },
    {
      "cell_type": "code",
      "source": [
        "#Нормы невязок при хорошо обусловленной матрице\n",
        "print(np.linalg.norm(b - np.dot(A, x_pred), 1))\n",
        "print(np.linalg.norm(b - np.dot(A, x_pred), np.inf))"
      ],
      "metadata": {
        "colab": {
          "base_uri": "https://localhost:8080/"
        },
        "id": "_oEnz3ValTWd",
        "outputId": "25049919-1640-470e-c1f4-49d7559aa5e1"
      },
      "execution_count": null,
      "outputs": [
        {
          "output_type": "stream",
          "name": "stdout",
          "text": [
            "1.9184653865522705e-13\n",
            "1.1368683772161603e-13\n"
          ]
        }
      ]
    },
    {
      "cell_type": "code",
      "source": [
        "#Погрешности при хорошо обусловленной матрице\n",
        "print(np.linalg.norm(x, 1) - np.linalg.norm(x_pred, 1))\n",
        "print((np.linalg.norm(x, 1) - np.linalg.norm(x_pred, 1))/np.linalg.norm(x, 1))"
      ],
      "metadata": {
        "colab": {
          "base_uri": "https://localhost:8080/"
        },
        "id": "ozzeceHemOUE",
        "outputId": "a6cbb7e4-f6ac-4a0f-ead1-fb744d00b560"
      },
      "execution_count": null,
      "outputs": [
        {
          "output_type": "stream",
          "name": "stdout",
          "text": [
            "2.842170943040401e-14\n",
            "3.50885301609926e-16\n"
          ]
        }
      ]
    },
    {
      "cell_type": "code",
      "source": [
        "#Сравнение с результатами полученными при использовании встроенной процедуры\n",
        "np.linalg.solve(A, b) - x_pred"
      ],
      "metadata": {
        "colab": {
          "base_uri": "https://localhost:8080/"
        },
        "id": "VkNwYLgLQ92Q",
        "outputId": "29aad1e0-aa12-48d6-fe68-0d24ae4c4728"
      },
      "execution_count": null,
      "outputs": [
        {
          "output_type": "execute_result",
          "data": {
            "text/plain": [
              "array([[1.77635684e-15],\n",
              "       [1.11022302e-15],\n",
              "       [7.10542736e-15],\n",
              "       [0.00000000e+00]])"
            ]
          },
          "metadata": {},
          "execution_count": 60
        }
      ]
    },
    {
      "cell_type": "code",
      "source": [
        "#Обратная матрица, полученная при использовании реализованного метода Гаусса\n",
        "A_inv = Gauss(A.copy(),np.eye(4))\n",
        "A_inv"
      ],
      "metadata": {
        "colab": {
          "base_uri": "https://localhost:8080/"
        },
        "id": "Mmf4D3H6hIDS",
        "outputId": "fce64125-0aee-4729-a72f-eda751785611"
      },
      "execution_count": null,
      "outputs": [
        {
          "output_type": "execute_result",
          "data": {
            "text/plain": [
              "array([[ 0.02465987,  0.00199842,  0.03045515, -0.02718508],\n",
              "       [-0.00051963, -0.00741936,  0.00832289, -0.00340658],\n",
              "       [-0.03227363,  0.00812046,  0.11881585, -0.06691649],\n",
              "       [-0.00438518, -0.00239099, -0.00653029,  0.08062574]])"
            ]
          },
          "metadata": {},
          "execution_count": 122
        }
      ]
    },
    {
      "cell_type": "code",
      "source": [
        "#Проверка\n",
        "np.dot(A, A_inv)"
      ],
      "metadata": {
        "colab": {
          "base_uri": "https://localhost:8080/"
        },
        "id": "1BSneDKauM46",
        "outputId": "95312a85-328f-4de2-f2a0-906e571761b7"
      },
      "execution_count": null,
      "outputs": [
        {
          "output_type": "execute_result",
          "data": {
            "text/plain": [
              "array([[ 1.00000000e+00,  4.26515622e-19, -5.63525584e-17,\n",
              "         3.48942038e-17],\n",
              "       [-4.70627157e-17,  1.00000000e+00, -9.11378688e-18,\n",
              "        -1.21480577e-16],\n",
              "       [-9.13398342e-17,  7.33674854e-18,  1.00000000e+00,\n",
              "         6.34487166e-17],\n",
              "       [ 2.37690332e-17, -2.58417210e-18,  1.64149867e-17,\n",
              "         1.00000000e+00]])"
            ]
          },
          "metadata": {},
          "execution_count": 123
        }
      ]
    },
    {
      "cell_type": "code",
      "source": [
        "#Числа обусловленности матрицы\n",
        "print(np.linalg.cond(A, p=1))\n",
        "print(np.linalg.cond(A, p=np.inf))"
      ],
      "metadata": {
        "colab": {
          "base_uri": "https://localhost:8080/"
        },
        "id": "2EJ5GtNanvNl",
        "outputId": "678bfefe-7a29-4f7b-c08e-c6bdb8d62e0b"
      },
      "execution_count": null,
      "outputs": [
        {
          "output_type": "stream",
          "name": "stdout",
          "text": [
            "24.40612642282436\n",
            "32.428790658916036\n"
          ]
        }
      ]
    },
    {
      "cell_type": "code",
      "source": [
        "#Плохо обусловленная матрица\n",
        "A = np.array([[16.3820,        -2.0490,       -41.8290,        16.3920],    \n",
        "      [307.6480,       -38.4660,      -840.3660,       312.5280],      \n",
        "      [0.4560,        -0.0570,        -1.1770,         0.4560], \n",
        "      [23.2720,        -2.9090,       -66.3090,        23.8720]])\n",
        "x = np.array([[2],\n",
        "              [60],\n",
        "              [-1],\n",
        "              [5]])\n",
        "b = np.array([[33.6130],\n",
        "              [710.3420],\n",
        "              [0.9490],\n",
        "              [57.6730]])"
      ],
      "metadata": {
        "id": "pfzr67QBUlVc"
      },
      "execution_count": null,
      "outputs": []
    },
    {
      "cell_type": "code",
      "source": [
        "#Результаты, полученные при использовании реализованного метода Гаусса\n",
        "x_pred = Gauss(A.copy(), b.copy())\n",
        "x_pred"
      ],
      "metadata": {
        "colab": {
          "base_uri": "https://localhost:8080/"
        },
        "id": "uqfCIh8purg6",
        "outputId": "b8e8aa3d-b7b0-4fa2-d133-d717cc85932e"
      },
      "execution_count": null,
      "outputs": [
        {
          "output_type": "execute_result",
          "data": {
            "text/plain": [
              "array([[ 1.99999998],\n",
              "       [59.99999985],\n",
              "       [-1.        ],\n",
              "       [ 5.        ]])"
            ]
          },
          "metadata": {},
          "execution_count": 65
        }
      ]
    },
    {
      "cell_type": "code",
      "source": [
        "#Нормы невязок при плохо обусловленной матрице\n",
        "print(np.linalg.norm(b - np.dot(A, x_pred), 1))\n",
        "print(np.linalg.norm(b - np.dot(A, x_pred), np.inf))"
      ],
      "metadata": {
        "colab": {
          "base_uri": "https://localhost:8080/"
        },
        "id": "5iBfVzfIoaRj",
        "outputId": "a46cad38-fd76-4b06-8580-85e4b5d18484"
      },
      "execution_count": null,
      "outputs": [
        {
          "output_type": "stream",
          "name": "stdout",
          "text": [
            "8.081911806456787e-10\n",
            "7.149765224312432e-10\n"
          ]
        }
      ]
    },
    {
      "cell_type": "code",
      "source": [
        "#Погрешности при плохо обусловленной матрице\n",
        "print(np.linalg.norm(x, 1) - np.linalg.norm(x_pred, 1))\n",
        "print((np.linalg.norm(x, 1) - np.linalg.norm(x_pred, 1))/np.linalg.norm(x, 1))"
      ],
      "metadata": {
        "colab": {
          "base_uri": "https://localhost:8080/"
        },
        "id": "tl0Fg2jFokdd",
        "outputId": "1bf29888-d66b-4674-f72f-f5f667478458"
      },
      "execution_count": null,
      "outputs": [
        {
          "output_type": "stream",
          "name": "stdout",
          "text": [
            "1.684516917066503e-07\n",
            "2.4772307603919163e-09\n"
          ]
        }
      ]
    },
    {
      "cell_type": "code",
      "source": [
        "#Сравнение с результатами полученными при использовании встроенной процедуры\n",
        "np.linalg.solve(A, b) - x_pred"
      ],
      "metadata": {
        "colab": {
          "base_uri": "https://localhost:8080/"
        },
        "id": "5zq_0mYnuw1t",
        "outputId": "cde16b45-f0a5-4449-9dcc-e2d4583b5b0a"
      },
      "execution_count": null,
      "outputs": [
        {
          "output_type": "execute_result",
          "data": {
            "text/plain": [
              "array([[1.01552367e-09],\n",
              "       [9.44513090e-09],\n",
              "       [2.08284501e-11],\n",
              "       [2.16561880e-10]])"
            ]
          },
          "metadata": {},
          "execution_count": 68
        }
      ]
    },
    {
      "cell_type": "code",
      "source": [
        "#Обратная матрица, полученная при использовании реализованного метода Гаусса\n",
        "A_inv = Gauss(A.copy(),np.eye(4))\n",
        "A_inv"
      ],
      "metadata": {
        "colab": {
          "base_uri": "https://localhost:8080/"
        },
        "outputId": "a2357963-ce7e-4c7a-a63d-3450e5b97d70",
        "id": "f3uGIZxSuzsj"
      },
      "execution_count": null,
      "outputs": [
        {
          "output_type": "execute_result",
          "data": {
            "text/plain": [
              "array([[-1.09690000e+06,  1.37100000e+05,  2.88509999e+06,\n",
              "        -1.09680000e+06],\n",
              "       [-1.02015733e+07,  1.27509666e+06,  2.68274599e+07,\n",
              "        -1.02007600e+07],\n",
              "       [-2.28000000e+04,  2.84999999e+03,  5.98999999e+04,\n",
              "        -2.28000000e+04],\n",
              "       [-2.37146666e+05,  2.96433333e+04,  6.22944999e+05,\n",
              "        -2.37145000e+05]])"
            ]
          },
          "metadata": {},
          "execution_count": 127
        }
      ]
    },
    {
      "cell_type": "code",
      "source": [
        "#Проверка\n",
        "np.dot(A, A_inv)"
      ],
      "metadata": {
        "colab": {
          "base_uri": "https://localhost:8080/"
        },
        "id": "YcABUSGhu5zM",
        "outputId": "dc3890a3-1ae2-4962-9c2d-42415b8c3ce7"
      },
      "execution_count": null,
      "outputs": [
        {
          "output_type": "execute_result",
          "data": {
            "text/plain": [
              "array([[ 9.99993514e-01,  8.11091303e-07,  1.70573823e-05,\n",
              "        -6.48593925e-06],\n",
              "       [-1.21519750e-04,  1.00001520e+00,  3.19498505e-04,\n",
              "        -1.21525903e-04],\n",
              "       [-1.79798164e-07,  2.24782485e-08,  1.00000047e+00,\n",
              "        -1.79780236e-07],\n",
              "       [-9.17861709e-06,  1.14738488e-06,  2.41250731e-05,\n",
              "         9.99990823e-01]])"
            ]
          },
          "metadata": {},
          "execution_count": 128
        }
      ]
    },
    {
      "cell_type": "code",
      "source": [
        "#Числа обусловленности матрицы\n",
        "print(np.linalg.cond(A, p=1))\n",
        "print(np.linalg.cond(A, p=np.inf))"
      ],
      "metadata": {
        "colab": {
          "base_uri": "https://localhost:8080/"
        },
        "id": "-TF5a7Oooyew",
        "outputId": "af53a9ba-30b7-482f-d2ca-85c1bf73e69e"
      },
      "execution_count": null,
      "outputs": [
        {
          "output_type": "stream",
          "name": "stdout",
          "text": [
            "28865938592.90533\n",
            "72709218091.40654\n"
          ]
        }
      ]
    },
    {
      "cell_type": "markdown",
      "source": [
        "Часть 2"
      ],
      "metadata": {
        "id": "kA9P4aD4v8m7"
      }
    },
    {
      "cell_type": "code",
      "source": [
        "#Исходные данные\n",
        "b = np.array([-1,  1,  1, -1,  1, 0]) #Наддиагональ\n",
        "c = np.array([50,  90,  125,  110,   85,   70]) #Основная диагональ\n",
        "a = np.array([0, 1,  1, -1,  0,  1]) #Поддиагональ\n",
        "f = np.array([10,  -9,  12,  11,  9,  8]) #Правая часть"
      ],
      "metadata": {
        "id": "RYxxn55bC7qq"
      },
      "execution_count": null,
      "outputs": []
    },
    {
      "cell_type": "code",
      "source": [
        "#Проверка достаточных условий\n",
        "check = True\n",
        "for i in range(1,5):\n",
        "  if abs(c[i]) < abs(b[i]) + abs(a[i]):\n",
        "    check = False\n",
        "check"
      ],
      "metadata": {
        "colab": {
          "base_uri": "https://localhost:8080/"
        },
        "id": "E0MUXmfwXVQw",
        "outputId": "34e3a099-6186-4904-96cf-27fce391bc19"
      },
      "execution_count": null,
      "outputs": [
        {
          "output_type": "execute_result",
          "data": {
            "text/plain": [
              "True"
            ]
          },
          "metadata": {},
          "execution_count": 4
        }
      ]
    },
    {
      "cell_type": "code",
      "source": [
        "#Реализация метода прогонки\n",
        "alpha = np.zeros((6))\n",
        "beta = np.zeros((6))\n",
        "x = np.zeros((6))\n",
        "\n",
        "alpha[0] = -1 * b[0] / c[0]\n",
        "beta[0] = f[0] / c[0]\n",
        "for i in range(1, 5):\n",
        "  alpha[i] = (-1 * b[i] / (a[i] * alpha[i-1] + c[i]))\n",
        "  beta[i] = ((f[i] - a[i] * beta[i-1]) / (a[i]*alpha[i-1] + c[i]))\n",
        "x[5] = ((f[5] - a[5] * beta[4]) / (c[5] + a[5] * alpha[4])) \n",
        "for i in reversed(range(5)):\n",
        "  x[i] = alpha[i] * x[i+1] + beta[i]\n",
        "x"
      ],
      "metadata": {
        "colab": {
          "base_uri": "https://localhost:8080/"
        },
        "id": "3cdyrsyYEY83",
        "outputId": "2a8f06b7-fabd-4873-c1ed-070ffc7ca140"
      },
      "execution_count": null,
      "outputs": [
        {
          "output_type": "execute_result",
          "data": {
            "text/plain": [
              "array([ 0.19793468, -0.10326607,  0.09601154,  0.10182334,  0.10455539,\n",
              "        0.11279207])"
            ]
          },
          "metadata": {},
          "execution_count": 5
        }
      ]
    },
    {
      "cell_type": "code",
      "source": [
        "#Матрица А\n",
        "A = np.array([50, 1, 0, 0, 0, 0, -1, 90, 1, 0, 0, 0, 0, 1, 125, -1, 0, 0, 0, 0, 1, 110, 0, 0, 0, 0, 0, -1, 85, 1, 0, 0, 0, 0, 1, 70])\n",
        "A = A.reshape((6,6))"
      ],
      "metadata": {
        "id": "I6oRhNwBv-B0"
      },
      "execution_count": null,
      "outputs": []
    },
    {
      "cell_type": "code",
      "source": [
        "#Невязка\n",
        "n = f.reshape(6, 1) - np.dot(A, x.reshape(6, 1))\n",
        "n"
      ],
      "metadata": {
        "colab": {
          "base_uri": "https://localhost:8080/"
        },
        "id": "9Fvm6Xu_KhC5",
        "outputId": "db201f87-c097-43b5-882a-760d64d46298"
      },
      "execution_count": null,
      "outputs": [
        {
          "output_type": "execute_result",
          "data": {
            "text/plain": [
              "array([[ 2.06532138e-01],\n",
              "       [ 3.95869357e-01],\n",
              "       [ 2.03646671e-01],\n",
              "       [-2.96578471e-01],\n",
              "       [ 1.01823336e-01],\n",
              "       [-1.77635684e-15]])"
            ]
          },
          "metadata": {},
          "execution_count": 21
        }
      ]
    },
    {
      "cell_type": "code",
      "source": [
        "#Нормы невязки\n",
        "print(np.linalg.norm(n, 1))\n",
        "print(np.linalg.norm(n, np.inf))"
      ],
      "metadata": {
        "colab": {
          "base_uri": "https://localhost:8080/"
        },
        "id": "WGl32kTRQy1C",
        "outputId": "5fceda10-dc23-4d61-f13b-0c54247f932f"
      },
      "execution_count": null,
      "outputs": [
        {
          "output_type": "stream",
          "name": "stdout",
          "text": [
            "1.2044499738262129\n",
            "0.3958693572353411\n"
          ]
        }
      ]
    },
    {
      "cell_type": "code",
      "source": [
        "#Сохранение исходного решения и изменение коэффициентов правой части\n",
        "xv1 = x\n",
        "f = np.array([10,  -9,  11.99,  11.01,  9,  8]) #Правая часть"
      ],
      "metadata": {
        "id": "YcQykbIbcPRx"
      },
      "execution_count": null,
      "outputs": []
    },
    {
      "cell_type": "code",
      "source": [
        "#Решение возмущенной системы\n",
        "xv2 = x"
      ],
      "metadata": {
        "id": "QIY8oj1hc5or"
      },
      "execution_count": null,
      "outputs": []
    },
    {
      "cell_type": "code",
      "source": [
        "#Разность исходного решения и решения возмущенной системы \n",
        "(xv1 - xv2).reshape((6,1))"
      ],
      "metadata": {
        "colab": {
          "base_uri": "https://localhost:8080/"
        },
        "id": "Tw7s_zZ7dOaR",
        "outputId": "7c21cd1a-d971-49f4-e307-ac4805ac0e23"
      },
      "execution_count": null,
      "outputs": [
        {
          "output_type": "execute_result",
          "data": {
            "text/plain": [
              "array([[-1.79356978e-08],\n",
              "       [-8.96784890e-07],\n",
              "       [ 8.07285758e-05],\n",
              "       [-9.01751948e-05],\n",
              "       [ 0.00000000e+00],\n",
              "       [ 0.00000000e+00]])"
            ]
          },
          "metadata": {},
          "execution_count": 43
        }
      ]
    }
  ]
}